{
 "cells": [
  {
   "cell_type": "code",
   "execution_count": 36,
   "metadata": {},
   "outputs": [],
   "source": [
    "import pandas as pd\n",
    "import numpy as np"
   ]
  },
  {
   "cell_type": "code",
   "execution_count": 42,
   "metadata": {},
   "outputs": [],
   "source": [
    "def string_to_dataframe(s, name):\n",
    "    # Split the input string by commas to get key-value pairs\n",
    "    pairs = s.split(',')\n",
    "\n",
    "    # Create a dictionary to hold the data\n",
    "    data_dict = {}\n",
    "\n",
    "    # Loop through the pairs and fill the dictionary\n",
    "    for pair in pairs:\n",
    "        key, value = pair.split()  # Split each pair by space\n",
    "        data_dict[int(key)] = value  # Convert key to int and store the value\n",
    "\n",
    "    # Convert the dictionary to a DataFrame\n",
    "    df = pd.DataFrame(data_dict.values(), columns=[name], index=data_dict.keys())\n",
    "\n",
    "    return df"
   ]
  },
  {
   "cell_type": "code",
   "execution_count": 73,
   "metadata": {},
   "outputs": [],
   "source": [
    "from pathlib import Path\n",
    "path = Path(\"data/Neurologues\")\n",
    "\n",
    "def get_data(name):\n",
    "    path_ = path / name\n",
    "    l = []\n",
    "    for i in range(5):\n",
    "        filename = path_ / f\"Output{i+1}.txt\"\n",
    "        if filename.exists():\n",
    "            print(f\"Data found in {filename}\")\n",
    "            with open(filename) as f:\n",
    "                data = (\n",
    "                    f.read()\n",
    "                    .replace(\"YES \", \"YES,\")\n",
    "                    .replace(\"NO \", \"NO,\")\n",
    "                    .replace(\"CAN'T SAY \", \"NEUTRAL,\")\n",
    "                    .replace(\"undefined \", \"NEUTRAL,\")\n",
    "                    [:-1]\n",
    "                    )\n",
    "            l.append(string_to_dataframe(data, name))\n",
    "    return pd.concat(l)"
   ]
  },
  {
   "cell_type": "code",
   "execution_count": 90,
   "metadata": {},
   "outputs": [
    {
     "name": "stdout",
     "output_type": "stream",
     "text": [
      "Data found in data/Neurologues/Mariana/Output1.txt\n",
      "Data found in data/Neurologues/Mariana/Output2.txt\n",
      "Data found in data/Neurologues/Mariana/Output3.txt\n",
      "Data found in data/Neurologues/Mariana/Output4.txt\n",
      "Data found in data/Neurologues/Mariana/Output5.txt\n",
      "Data found in data/Neurologues/Olivier/Output1.txt\n",
      "Data found in data/Neurologues/Olivier/Output2.txt\n",
      "Data found in data/Neurologues/Olivier/Output3.txt\n",
      "Data found in data/Neurologues/Olivier/Output4.txt\n",
      "Data found in data/Neurologues/Olivier/Output5.txt\n"
     ]
    },
    {
     "data": {
      "application/vnd.microsoft.datawrangler.viewer.v0+json": {
       "columns": [
        {
         "name": "index",
         "rawType": "int64",
         "type": "integer"
        },
        {
         "name": "Mariana",
         "rawType": "object",
         "type": "string"
        },
        {
         "name": "Olivier",
         "rawType": "object",
         "type": "string"
        }
       ],
       "conversionMethod": "pd.DataFrame",
       "ref": "57fbf51d-0c22-4900-af88-b9f4b647ff7e",
       "rows": [
        [
         "0",
         "YES",
         "NEUTRAL"
        ],
        [
         "1",
         "YES",
         "YES"
        ],
        [
         "2",
         "YES",
         "YES"
        ],
        [
         "3",
         "YES",
         "YES"
        ],
        [
         "4",
         "YES",
         "NEUTRAL"
        ],
        [
         "5",
         "YES",
         "YES"
        ],
        [
         "6",
         "YES",
         "YES"
        ],
        [
         "7",
         "YES",
         "YES"
        ],
        [
         "8",
         "YES",
         "NEUTRAL"
        ],
        [
         "9",
         "YES",
         "NO"
        ],
        [
         "10",
         "YES",
         "YES"
        ],
        [
         "11",
         "YES",
         "NO"
        ],
        [
         "12",
         "YES",
         "YES"
        ],
        [
         "13",
         "YES",
         "NO"
        ],
        [
         "14",
         "YES",
         "NO"
        ],
        [
         "15",
         "YES",
         "NEUTRAL"
        ],
        [
         "16",
         "YES",
         "NO"
        ],
        [
         "17",
         "YES",
         "NEUTRAL"
        ],
        [
         "18",
         "YES",
         "NO"
        ],
        [
         "19",
         "YES",
         "YES"
        ],
        [
         "20",
         "YES",
         "YES"
        ],
        [
         "21",
         "YES",
         "NEUTRAL"
        ],
        [
         "22",
         "YES",
         "YES"
        ],
        [
         "23",
         "YES",
         "YES"
        ],
        [
         "24",
         "YES",
         "NEUTRAL"
        ],
        [
         "25",
         "YES",
         "NEUTRAL"
        ],
        [
         "26",
         "YES",
         "NO"
        ],
        [
         "27",
         "YES",
         "YES"
        ],
        [
         "28",
         "YES",
         "NO"
        ],
        [
         "29",
         "YES",
         "NO"
        ],
        [
         "30",
         "YES",
         "YES"
        ],
        [
         "31",
         "YES",
         "NO"
        ],
        [
         "32",
         "YES",
         "NEUTRAL"
        ],
        [
         "33",
         "YES",
         "NO"
        ],
        [
         "34",
         "YES",
         "YES"
        ],
        [
         "35",
         "YES",
         "YES"
        ],
        [
         "36",
         "YES",
         "NO"
        ],
        [
         "37",
         "YES",
         "NO"
        ],
        [
         "38",
         "YES",
         "YES"
        ],
        [
         "39",
         "YES",
         "NEUTRAL"
        ],
        [
         "40",
         "YES",
         "NO"
        ],
        [
         "41",
         "YES",
         "NEUTRAL"
        ],
        [
         "42",
         "YES",
         "NO"
        ],
        [
         "43",
         "YES",
         "NO"
        ],
        [
         "44",
         "YES",
         "NEUTRAL"
        ],
        [
         "45",
         "YES",
         "YES"
        ],
        [
         "46",
         "YES",
         "NEUTRAL"
        ],
        [
         "47",
         "YES",
         "NEUTRAL"
        ],
        [
         "48",
         "YES",
         "NO"
        ],
        [
         "49",
         "NO",
         "NO"
        ]
       ],
       "shape": {
        "columns": 2,
        "rows": 450
       }
      },
      "text/html": [
       "<div>\n",
       "<style scoped>\n",
       "    .dataframe tbody tr th:only-of-type {\n",
       "        vertical-align: middle;\n",
       "    }\n",
       "\n",
       "    .dataframe tbody tr th {\n",
       "        vertical-align: top;\n",
       "    }\n",
       "\n",
       "    .dataframe thead th {\n",
       "        text-align: right;\n",
       "    }\n",
       "</style>\n",
       "<table border=\"1\" class=\"dataframe\">\n",
       "  <thead>\n",
       "    <tr style=\"text-align: right;\">\n",
       "      <th></th>\n",
       "      <th>Mariana</th>\n",
       "      <th>Olivier</th>\n",
       "    </tr>\n",
       "  </thead>\n",
       "  <tbody>\n",
       "    <tr>\n",
       "      <th>0</th>\n",
       "      <td>YES</td>\n",
       "      <td>NEUTRAL</td>\n",
       "    </tr>\n",
       "    <tr>\n",
       "      <th>1</th>\n",
       "      <td>YES</td>\n",
       "      <td>YES</td>\n",
       "    </tr>\n",
       "    <tr>\n",
       "      <th>2</th>\n",
       "      <td>YES</td>\n",
       "      <td>YES</td>\n",
       "    </tr>\n",
       "    <tr>\n",
       "      <th>3</th>\n",
       "      <td>YES</td>\n",
       "      <td>YES</td>\n",
       "    </tr>\n",
       "    <tr>\n",
       "      <th>4</th>\n",
       "      <td>YES</td>\n",
       "      <td>NEUTRAL</td>\n",
       "    </tr>\n",
       "    <tr>\n",
       "      <th>...</th>\n",
       "      <td>...</td>\n",
       "      <td>...</td>\n",
       "    </tr>\n",
       "    <tr>\n",
       "      <th>445</th>\n",
       "      <td>YES</td>\n",
       "      <td>NO</td>\n",
       "    </tr>\n",
       "    <tr>\n",
       "      <th>446</th>\n",
       "      <td>YES</td>\n",
       "      <td>NO</td>\n",
       "    </tr>\n",
       "    <tr>\n",
       "      <th>447</th>\n",
       "      <td>NEUTRAL</td>\n",
       "      <td>NO</td>\n",
       "    </tr>\n",
       "    <tr>\n",
       "      <th>448</th>\n",
       "      <td>YES</td>\n",
       "      <td>NO</td>\n",
       "    </tr>\n",
       "    <tr>\n",
       "      <th>449</th>\n",
       "      <td>YES</td>\n",
       "      <td>YES</td>\n",
       "    </tr>\n",
       "  </tbody>\n",
       "</table>\n",
       "<p>450 rows × 2 columns</p>\n",
       "</div>"
      ],
      "text/plain": [
       "     Mariana  Olivier\n",
       "0        YES  NEUTRAL\n",
       "1        YES      YES\n",
       "2        YES      YES\n",
       "3        YES      YES\n",
       "4        YES  NEUTRAL\n",
       "..       ...      ...\n",
       "445      YES       NO\n",
       "446      YES       NO\n",
       "447  NEUTRAL       NO\n",
       "448      YES       NO\n",
       "449      YES      YES\n",
       "\n",
       "[450 rows x 2 columns]"
      ]
     },
     "execution_count": 90,
     "metadata": {},
     "output_type": "execute_result"
    }
   ],
   "source": [
    "dfm = get_data(\"Mariana\")\n",
    "dfo = get_data(\"Olivier\")\n",
    "df = pd.concat([dfm, dfo], axis=1).fillna(\"U\")\n",
    "df.replace(\"U\", np.nan).dropna()"
   ]
  },
  {
   "cell_type": "markdown",
   "metadata": {},
   "source": [
    "YES / CAN'T SAY / NEUTRAL are mapped onto 2 / 1.5 / 0 grades\n",
    "\n",
    "This is to emphasize that NEUTRAL is almost as good as YES"
   ]
  },
  {
   "cell_type": "code",
   "execution_count": 98,
   "metadata": {},
   "outputs": [
    {
     "name": "stderr",
     "output_type": "stream",
     "text": [
      "/var/folders/yl/mf_2hh5x6d96xy5c2lk88sn40000gn/T/ipykernel_83266/133214237.py:4: FutureWarning: Downcasting behavior in `replace` is deprecated and will be removed in a future version. To retain the old behavior, explicitly call `result.infer_objects(copy=False)`. To opt-in to the future behavior, set `pd.set_option('future.no_silent_downcasting', True)`\n",
      "  return df.replace({\"YES\": 2, \"NO\": 0, \"NEUTRAL\": 1.5, \"U\": np.nan}).astype(float)\n",
      "/var/folders/yl/mf_2hh5x6d96xy5c2lk88sn40000gn/T/ipykernel_83266/133214237.py:4: FutureWarning: Downcasting behavior in `replace` is deprecated and will be removed in a future version. To retain the old behavior, explicitly call `result.infer_objects(copy=False)`. To opt-in to the future behavior, set `pd.set_option('future.no_silent_downcasting', True)`\n",
      "  return df.replace({\"YES\": 2, \"NO\": 0, \"NEUTRAL\": 1.5, \"U\": np.nan}).astype(float)\n"
     ]
    },
    {
     "data": {
      "text/plain": [
       "array([[<Axes: title={'center': 'Mariana'}>,\n",
       "        <Axes: title={'center': 'Olivier'}>],\n",
       "       [<Axes: title={'center': 'Mean score'}>, <Axes: >]], dtype=object)"
      ]
     },
     "execution_count": 98,
     "metadata": {},
     "output_type": "execute_result"
    },
    {
     "data": {
      "image/png": "[encoded data removed]",
      "text/plain": [
       "<Figure size 640x480 with 4 Axes>"
      ]
     },
     "metadata": {},
     "output_type": "display_data"
    }
   ],
   "source": [
    "def to_score(df, mean=False):\n",
    "    if mean:\n",
    "        return to_score(df).dropna().mean(axis=1).sort_values(ascending=True).to_frame(\"Mean score\")\n",
    "    return df.replace({\"YES\": 2, \"NO\": 0, \"NEUTRAL\": 1.5, \"U\": np.nan}).astype(float)\n",
    "df_all = pd.concat([to_score(df, False), to_score(df, True)], axis=1)\n",
    "df_all.hist(bins=20)"
   ]
  },
  {
   "cell_type": "markdown",
   "metadata": {},
   "source": [
    "BREAKDOWN"
   ]
  },
  {
   "cell_type": "code",
   "execution_count": null,
   "metadata": {},
   "outputs": [
    {
     "data": {
      "text/plain": [
       "Mariana  Olivier  Mean score\n",
       "2.0      2.0      2.00          208\n",
       "         0.0      1.00          128\n",
       "         1.5      1.75           94\n",
       "1.5      0.0      0.75            8\n",
       "0.0      0.0      0.00            5\n",
       "1.5      1.5      1.50            3\n",
       "0.0      1.5      0.75            2\n",
       "         2.0      1.00            1\n",
       "1.5      2.0      1.75            1\n",
       "Name: count, dtype: int64"
      ]
     },
     "execution_count": 106,
     "metadata": {},
     "output_type": "execute_result"
    }
   ],
   "source": [
    "df_all.value_counts()"
   ]
  },
  {
   "cell_type": "code",
   "execution_count": null,
   "metadata": {},
   "outputs": [],
   "source": []
  }
 ],
 "metadata": {
  "kernelspec": {
   "display_name": "Lifinsight",
   "language": "python",
   "name": "python3"
  },
  "language_info": {
   "codemirror_mode": {
    "name": "ipython",
    "version": 3
   },
   "file_extension": ".py",
   "mimetype": "text/x-python",
   "name": "python",
   "nbconvert_exporter": "python",
   "pygments_lexer": "ipython3",
   "version": "3.12.7"
  }
 },
 "nbformat": 4,
 "nbformat_minor": 2
}
